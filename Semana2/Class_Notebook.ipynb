{
 "cells": [
  {
   "cell_type": "code",
   "execution_count": 212,
   "metadata": {},
   "outputs": [],
   "source": [
    "import numpy as np\n",
    "import keras\n",
    "from keras.datasets import imdb\n",
    "from keras.models import Sequential\n",
    "from keras.layers import Dense, Dropout, Activation\n",
    "from keras.preprocessing.text import Tokenizer\n",
    "import matplotlib.pyplot as plt\n",
    "%matplotlib inline\n",
    "\n",
    "np.random.seed(42)\n",
    "\n",
    "# conda install keras"
   ]
  },
  {
   "cell_type": "markdown",
   "metadata": {},
   "source": [
    "# Gradient Descent"
   ]
  },
  {
   "cell_type": "code",
   "execution_count": 300,
   "metadata": {},
   "outputs": [
    {
     "data": {
      "text/plain": [
       "<matplotlib.collections.PathCollection at 0x14035c978>"
      ]
     },
     "execution_count": 300,
     "metadata": {},
     "output_type": "execute_result"
    },
    {
     "data": {
      "image/png": "[encoded data removed]",
      "text/plain": [
       "<matplotlib.figure.Figure at 0x13b076be0>"
      ]
     },
     "metadata": {},
     "output_type": "display_data"
    }
   ],
   "source": [
    "trainX = [100, 200, 300, 400, 500, 600, 700, 800, 1000]\n",
    "trainY = [350, 380, 400, 450, 550, 600, 650, 700, 750]\n",
    "plt.scatter(trainX, trainY)"
   ]
  },
  {
   "cell_type": "code",
   "execution_count": 301,
   "metadata": {},
   "outputs": [],
   "source": [
    "# Función que predice costo de casa\n",
    "def predict(size, weight, bias):\n",
    "    # y = mx + b\n",
    "    return size * weight + bias"
   ]
  },
  {
   "cell_type": "code",
   "execution_count": 302,
   "metadata": {},
   "outputs": [],
   "source": [
    "# Funcion que calcula el error\n",
    "def loss_function(sizes, costs, weight, bias):\n",
    "    totalError = 0\n",
    "    for i in range(0, len(sizes)):\n",
    "        x = sizes[i]\n",
    "        y = costs[i]\n",
    "        totalError += (y - (weight * x + bias)) ** 2\n",
    "    return totalError / float(len(sizes))\n",
    "\n",
    "def loss_function_deriv_weight(size, cost, weight, bias, n):\n",
    "    # -1/n * (y - (mx + b))\n",
    "    return -(1/n) * size * (cost - predict(size, weight, bias))\n",
    "\n",
    "def loss_function_deriv_bias(size, cost, weight, bias, n):\n",
    "    # -1/n * (y - (mx + b))\n",
    "    return -(1/n) * (cost - predict(size, weight, bias))"
   ]
  },
  {
   "cell_type": "code",
   "execution_count": 312,
   "metadata": {},
   "outputs": [],
   "source": [
    "def step_gradient(sizes, costs, weight, bias,learningRate):\n",
    "    weight_deriv = 0\n",
    "    bias_deriv = 0\n",
    "    m = float(len(sizes))\n",
    "    \n",
    "    for i in range(len(sizes)):\n",
    "        x = sizes[i]\n",
    "        y = costs[i]\n",
    "        \n",
    "        # Calculate partial derivatives of loss_function\n",
    "        bias_deriv += -(2/m) * (y - ((weight * x) + bias))\n",
    "        weight_deriv += -(2/m) * x * (y - ((weight * x) + bias))\n",
    "    \n",
    "    weight = weight - (weight_deriv * learning_rate)\n",
    "    bias = bias - (learning_rate * bias_deriv)\n",
    "\n",
    "    return weight, bias"
   ]
  },
  {
   "cell_type": "code",
   "execution_count": 339,
   "metadata": {},
   "outputs": [],
   "source": [
    "def train(sizes, costs, initial_weight, initial_bias, learning_rate, epoch):\n",
    "    weight = initial_weight\n",
    "    bias = initial_bias\n",
    "   \n",
    "    for i in range(epoch):\n",
    "        weight, bias = step_gradient(sizes, costs, weight, bias, learning_rate)\n",
    "        if i%10 == 0:\n",
    "            print(\"Loss: \", str(loss_function(sizes, costs, weight, bias)), \"b: \" , bias, \"w: \", weight)\n",
    "    return [b, m]"
   ]
  },
  {
   "cell_type": "code",
   "execution_count": 340,
   "metadata": {},
   "outputs": [],
   "source": [
    "import csv\n",
    "\n",
    "with open('data.csv', 'r') as f:\n",
    "  r = csv.reader(f)\n",
    "  points = list(r)\n",
    "\n",
    "trainX = []\n",
    "trainY = []\n",
    "for point in points:\n",
    "    trainX.append(float(point[0])) \n",
    "    trainY.append(float(point[1]))"
   ]
  },
  {
   "cell_type": "code",
   "execution_count": 341,
   "metadata": {},
   "outputs": [
    {
     "name": "stdout",
     "output_type": "stream",
     "text": [
      "Loss:  1484.586557408649 b:  0.014547010110737297 w:  0.7370702973591052\n",
      "Loss:  112.65166489759584 b:  0.029714049245227046 w:  1.4781595857319891\n",
      "Loss:  112.64990814400619 b:  0.030329617731073667 w:  1.4788952310786534\n",
      "Loss:  112.64954700524882 b:  0.030930464674392876 w:  1.4788841757704807\n",
      "Loss:  112.6491859224223 b:  0.031531251467959626 w:  1.4788723682497276\n",
      "Loss:  112.64882489409928 b:  0.032131992902294806 w:  1.4788605608606418\n",
      "Loss:  112.64846392027134 b:  0.03273268899573464 w:  1.4788487543619513\n",
      "Loss:  112.64810300093023 b:  0.0333333397517163 w:  1.4788369487543538\n",
      "Loss:  112.64774213606768 b:  0.033933945173661606 w:  1.4788251440377829\n",
      "Loss:  112.64738132567561 b:  0.03453450526499217 w:  1.4788133402121713\n",
      "0.02963934787473239 1.4774173755483797\n"
     ]
    }
   ],
   "source": [
    "learning_rate = 0.0001\n",
    "weight = 0.0\n",
    "bias = 0.0\n",
    "epochs = 1000\n",
    "\n",
    "[bias, weight] = train(trainX, trainY, bias, weight, learning_rate, epochs)\n",
    "print(bias, weight)"
   ]
  },
  {
   "cell_type": "markdown",
   "metadata": {},
   "source": [
    "# Backpropagation"
   ]
  },
  {
   "cell_type": "code",
   "execution_count": 311,
   "metadata": {},
   "outputs": [
    {
     "name": "stdout",
     "output_type": "stream",
     "text": [
      "0.7370702973591052 0.014547010110737297\n",
      "1484.586557408649\n",
      "1.1067954543515157 0.02187396295959641\n",
      "457.8542575737673\n",
      "1.2922546649131115 0.025579224321293136\n",
      "199.50998572553894\n",
      "1.385283255651245 0.027467789559144355\n",
      "134.50591058200533\n",
      "1.4319472323843205 0.028445071981738963\n",
      "118.14969342239947\n",
      "1.4553540088980408 0.02896524076647862\n",
      "114.0341490603815\n",
      "1.4670946177201354 0.0292561141260467\n",
      "112.99857731713661\n",
      "1.4729832982243762 0.02943196916380713\n",
      "112.7379818756847\n",
      "1.4759365618962286 0.029550129024383073\n",
      "112.67238435909097\n",
      "1.4774173755483797 0.02963934787473239\n",
      "112.65585181499746\n",
      "10 0.02963934787473239 1.4774173755483797 112.65585181499746\n"
     ]
    }
   ],
   "source": [
    "from numpy import *\n",
    "\n",
    "# y = mx + b\n",
    "# m is slope, b is y-intercept\n",
    "def compute_error_for_line_given_points(b, m, points):\n",
    "    totalError = 0\n",
    "    for i in range(0, len(points)):\n",
    "        x = points[i, 0]\n",
    "        y = points[i, 1]\n",
    "        totalError += (y - (m * x + b)) ** 2\n",
    "    return totalError / float(len(points))\n",
    "\n",
    "def step_gradient(b_current, m_current, points, learningRate):\n",
    "    b_gradient = 0\n",
    "    m_gradient = 0\n",
    "    N = float(len(points))\n",
    "    for i in range(0, len(points)):\n",
    "        x = points[i, 0]\n",
    "        y = points[i, 1]\n",
    "        b_gradient += -(2/N) * (y - ((m_current * x) + b_current))\n",
    "        m_gradient += -(2/N) * x * (y - ((m_current * x) + b_current))\n",
    "    new_b = b_current - (learningRate * b_gradient)\n",
    "    new_m = m_current - (learningRate * m_gradient)\n",
    "    print(new_m, new_b)\n",
    "    return [new_b, new_m]\n",
    "\n",
    "def gradient_descent_runner(points, starting_b, starting_m, learning_rate, num_iterations):\n",
    "    b = starting_b\n",
    "    m = starting_m\n",
    "    for i in range(num_iterations):\n",
    "        b, m = step_gradient(b, m, array(points), learning_rate)\n",
    "        print(compute_error_for_line_given_points(b, m, points))\n",
    "    return [b, m]\n",
    "\n",
    "\n",
    "points = genfromtxt(\"data.csv\", delimiter=\",\")\n",
    "learning_rate = 0.0001\n",
    "initial_b = 0 # initial y-intercept guess\n",
    "initial_m = 0 # initial slope guess\n",
    "num_iterations = 10\n",
    "[b, m] = gradient_descent_runner(points, initial_b, initial_m, learning_rate, num_iterations)\n",
    "print(num_iterations, b, m, compute_error_for_line_given_points(b, m, points))\n",
    "\n"
   ]
  },
  {
   "cell_type": "code",
   "execution_count": null,
   "metadata": {},
   "outputs": [],
   "source": []
  },
  {
   "cell_type": "code",
   "execution_count": null,
   "metadata": {},
   "outputs": [],
   "source": []
  },
  {
   "cell_type": "code",
   "execution_count": null,
   "metadata": {},
   "outputs": [],
   "source": []
  },
  {
   "cell_type": "code",
   "execution_count": null,
   "metadata": {},
   "outputs": [],
   "source": []
  },
  {
   "cell_type": "code",
   "execution_count": null,
   "metadata": {},
   "outputs": [],
   "source": []
  },
  {
   "cell_type": "code",
   "execution_count": null,
   "metadata": {},
   "outputs": [],
   "source": []
  },
  {
   "cell_type": "code",
   "execution_count": null,
   "metadata": {},
   "outputs": [],
   "source": []
  }
 ],
 "metadata": {
  "kernelspec": {
   "display_name": "Python 3",
   "language": "python",
   "name": "python3"
  },
  "language_info": {
   "codemirror_mode": {
    "name": "ipython",
    "version": 3
   },
   "file_extension": ".py",
   "mimetype": "text/x-python",
   "name": "python",
   "nbconvert_exporter": "python",
   "pygments_lexer": "ipython3",
   "version": "3.5.4"
  }
 },
 "nbformat": 4,
 "nbformat_minor": 2
}
