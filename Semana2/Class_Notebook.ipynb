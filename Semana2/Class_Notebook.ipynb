{
 "cells": [
  {
   "cell_type": "markdown",
   "metadata": {},
   "source": [
    "# Gradient Descent"
   ]
  },
  {
   "cell_type": "code",
   "execution_count": 4,
   "metadata": {},
   "outputs": [],
   "source": [
    "import numpy as np\n",
    "import matplotlib.pyplot as plt\n",
    "%matplotlib inline\n",
    "\n",
    "np.random.seed(42)"
   ]
  },
  {
   "cell_type": "markdown",
   "metadata": {},
   "source": [
    "En este ejercicio vamos a implementar Gradient Descent para regresión linear. Aunque en este ejercicio sólo vamos a ir ajustando un peso y un bias para encontrar la mejor línea (modelo) que represente la información, es importante entender que este mismo algoritmo es el que va ajustando todos los pesos en una red neuronal para minimizar el error.\n",
    "\n",
    "Vamos a utilizar la información de un archivo csv (comma separated values). En la siguiente celda importamos la información, y las separamos en trainX y trainY. En trainX, tenemos los features. En este caso sólo tenemos uno (asumamos que es el tamaño de la casa). En trainY tenemos el valor que querremos predecir, o sea el costo de la casa. \n",
    "\n",
    "En la siguiente celda graficamos estos puntos utilizando matplotlib en un scatter plot."
   ]
  },
  {
   "cell_type": "code",
   "execution_count": null,
   "metadata": {},
   "outputs": [],
   "source": [
    "import csv\n",
    "\n",
    "# Leemos la info de un archivo csv\n",
    "with open('data.csv', 'r') as f:\n",
    "  r = csv.reader(f)\n",
    "  points = list(r)\n",
    "\n",
    "# Separamos la información en trainX y trainY\n",
    "# En trainX tenemos nuestros features. \n",
    "# En este ejemplo sólo tenemos un feature, metros cuadrados\n",
    "# En trainY tenemos la variable que queremos predecir, en este caso\n",
    "# el valor de la casa en miles de dólares.\n",
    "trainX = []\n",
    "trainY = []\n",
    "for point in points:\n",
    "    trainX.append(float(point[0])) \n",
    "    trainY.append(float(point[1]))\n",
    "plt.scatter(trainX, trainY)"
   ]
  },
  {
   "cell_type": "markdown",
   "metadata": {},
   "source": [
    "Ahora implementaremos el algoritmo de Gradient Descent.\n",
    "\n",
    "Para comenzar, vamos a hacer una función que recibiendo el tamaño de la casa, el weight y el bias, podemos calcular el precio. Esto utiliza una ecuación de una línea recta (y = mx + b), pero para red neuronal."
   ]
  },
  {
   "cell_type": "code",
   "execution_count": null,
   "metadata": {},
   "outputs": [],
   "source": [
    "#TODO: Implementa la función h(x) = w*x + b Función que predice costo de casa\n",
    "def predict(size, weight, bias):\n",
    "    \"\"\"\n",
    "    Función que predice el costo de una casa con una línea.\n",
    "    \n",
    "    Utiliza la función h(x) = x * w + b\n",
    "    \n",
    "    size: El tamaño de la casa en metros cuadrados\n",
    "    weight: El peso asignado al tamaño de la casa\n",
    "    bias: Para la regresión lineal, el valor predecido cuando el tamaño es 0.\n",
    "    \"\"\"\n",
    "    return "
   ]
  },
  {
   "cell_type": "markdown",
   "metadata": {},
   "source": [
    "En la siguiente celda deberás implementar la función de pérdida de Mean Squared Error\n",
    "![title](mse.png)\n",
    "Recuerda utilizar la función predict (h) para hacer más sencillo el algoritmo. Adicionalmente, implementa las derivadas parciales respecto al peso y respecto al bias. **Omite el dos**. Dado que para la función de MSE agregamos una división entre dos, al derivar, se cancelará con el dos del exponente.\n",
    "![title](mse_deriv.png)"
   ]
  },
  {
   "cell_type": "code",
   "execution_count": null,
   "metadata": {},
   "outputs": [],
   "source": [
    "#TODO: Implementa la función de pérdida y sus derivadas\n",
    "\n",
    "def loss_function(sizes, costs, weight, bias):\n",
    "    \"\"\"\n",
    "    Función que calcula el error de una propuesta de regresión lineal\n",
    "    \n",
    "    Utiliza la función h(x) = x * w + b\n",
    "    \n",
    "    sizes: Los tamaños de las casas en metros cuadrados.\n",
    "    costs: Los costos verdaderos de las casas en cientos de miles de dólares.\n",
    "    weight: El peso asignado al tamaño de la casa.\n",
    "    bias: Para la regresión lineal, el valor predecido cuando el tamaño es 0.\n",
    "    \"\"\"\n",
    "    totalError = 0\n",
    "    m = len(sizes)\n",
    "    \n",
    "    # Calcula el error con diferencia de cuadrados\n",
    "    for i in range(0, m):\n",
    "        # ¿Cuál es el valor de entrada y cuál es el valor verdadero?\n",
    "        x = \n",
    "        y = \n",
    "        \n",
    "        # ¿Qué valor predicen tus datos? Utiliza la función predict\n",
    "        predicted = \n",
    "        \n",
    "        # Revisa la función para calcular el error\n",
    "        totalError += \n",
    "        \n",
    "    # Revisa la fórmula de MSE (Mean Squared Error)\n",
    "    return \n",
    "\n",
    "\n",
    "def loss_function_deriv_weight(size, cost, weight, bias, n):\n",
    "    \"\"\"\n",
    "    Función que calcula la derivada parcial según el peso de MSE\n",
    "    \n",
    "    Utiliza la función h'(x) = (-1/n) * (y - (mx + b))\n",
    "    \n",
    "    size: El tamaño de una casa en metros cuadrados.\n",
    "    cost: El costo real de la casa.\n",
    "    weight: El peso asignado al tamaño de esa casa.\n",
    "    bias: Para la regresión lineal, el valor predecido cuando el tamaño es 0.\n",
    "    n: El tamaño del dataset.\n",
    "    \"\"\"\n",
    "    return \n",
    "\n",
    "def loss_function_deriv_bias(size, cost, weight, bias, n):\n",
    "    \"\"\"\n",
    "    Función que calcula la derivada parcial según el bias de MSE\n",
    "    \n",
    "    Utiliza la función h'(x) = -1/n * (y - (mx + b))\n",
    "    \n",
    "    size: El tamaño de una casa en metros cuadrados.\n",
    "    cost: El costo real de la casa.\n",
    "    weight: El peso asignado al tamaño de esa casa.\n",
    "    bias: Para la regresión lineal, el valor predecido cuando el tamaño es 0.\n",
    "    n: El tamaño del dataset.\n",
    "    \"\"\"\n",
    "    return "
   ]
  },
  {
   "cell_type": "markdown",
   "metadata": {},
   "source": [
    "En la siguiente función implementaremos un algoritmo que ajusta el peso y el bias ligeramente minimizando el error. Para lograr esto, calculamos la derivada de la función de pérdida. Acumulamos estos valores y al final ajustamos ligeramente el peso y el bias. El ajuste se realiza de la siguiente manera\n",
    "\n",
    "![title](gradient_step.png)"
   ]
  },
  {
   "cell_type": "code",
   "execution_count": null,
   "metadata": {},
   "outputs": [],
   "source": [
    "# TODO: Calcula el paso de gradient\n",
    "def step_gradient(sizes, costs, weight, bias, learning_rate):\n",
    "    \"\"\"\n",
    "    Función que propone un nuevo bias y peso que reduce la función de error.\n",
    "    \n",
    "    sizes: Los tamaños de la casa.\n",
    "    cost: Los costos reales de la casa.\n",
    "    weight: Los pesos de la casa.\n",
    "    bias: Para la regresión lineal, el valor predecido cuando el tamaño es 0.\n",
    "    learning_rate: Qué tan rápido va a aprender\n",
    "    \"\"\"\n",
    "    \n",
    "    # El valor acumulado de la derivada en diferentes puntos. Inicialmente es 0.\n",
    "    weight_deriv = 0\n",
    "    bias_deriv = 0\n",
    "    \n",
    "    # El tamaño del dataset\n",
    "    m = float(len(sizes))\n",
    "    \n",
    "    # Para cada casa\n",
    "    for i in range(len(sizes)):\n",
    "        # ¿Cuál es su valor en X y en Y?\n",
    "        x = \n",
    "        y = \n",
    "        \n",
    "        # Calcula las derivadas parciales del loss function\n",
    "        bias_deriv += \n",
    "        weight_deriv += \n",
    "    \n",
    "    # Da un paso en la dirección que minimice el error\n",
    "    weight = weight - \n",
    "    bias = bias - \n",
    "\n",
    "    return weight, bias"
   ]
  },
  {
   "cell_type": "markdown",
   "metadata": {},
   "source": [
    "Por último, vamos a crear una función que se encarga de entrenar el modelo utilizando Gradient Descent. Para cada epoch, vamos a realizar un step_gradient. "
   ]
  },
  {
   "cell_type": "code",
   "execution_count": null,
   "metadata": {},
   "outputs": [],
   "source": [
    "# TODO: Entrena nuestro modelo con Gradient Descent\n",
    "def train(sizes, costs, initial_weight, initial_bias, learning_rate, epoch):\n",
    "    \"\"\"\n",
    "    Función que utiliza Gradient Descent para minimizar error.\n",
    "    \n",
    "    sizes: Los tamaños de la casa.\n",
    "    cost: Los costos reales de la casa.\n",
    "    intial_weight: El peso inicial del modelo.\n",
    "    initial_bias: El bias inicial del modelo.\n",
    "    learning_rate: Qué tan rápido va a aprender.\n",
    "    epoch: Número de iteraciones sobre dataset.\n",
    "    \"\"\"\n",
    "    weight = initial_weight\n",
    "    bias = initial_bias\n",
    "   \n",
    "    # Itera varias veces sobre el dataset para minimizar el error\n",
    "    for i in range(epoch):\n",
    "        # Llama a step_gradient con sus argumentos correctos.\n",
    "        weight, bias = \n",
    "        \n",
    "        if i%10 == 0:\n",
    "            print(\"Loss: \", str(loss_function(sizes, costs, weight, bias)), \"b: \" , bias, \"w: \", weight)\n",
    "    return weight, bias"
   ]
  },
  {
   "cell_type": "markdown",
   "metadata": {},
   "source": [
    "En la siguiente celda definimos el peso y bias inicial. Adicionalmente, definimos el learning_rate y el número de epochs. Corre la celda para entrenar el modelo. La pérdida debería ser cercana a 56. Para comprobar resultados, revisa las siguientes celdas."
   ]
  },
  {
   "cell_type": "code",
   "execution_count": null,
   "metadata": {},
   "outputs": [],
   "source": [
    "learning_rate = 0.0001\n",
    "weight = 0.0\n",
    "bias = 0.0\n",
    "epochs = 100\n",
    "\n",
    "weight, bias = train(trainX, trainY, bias, weight, learning_rate, epochs)\n",
    "print(bias, weight)"
   ]
  },
  {
   "cell_type": "markdown",
   "metadata": {},
   "source": [
    "Ahora que el modelo está entrenado (hemos definido un bias y un weight que describen el dataset), podemos predecir el valor de y para nuevos valores de x. En la siguiente celda utilizamos predict con el weight y bias definidos, y lo graficamos para ver si tiene sentido."
   ]
  },
  {
   "cell_type": "code",
   "execution_count": null,
   "metadata": {},
   "outputs": [],
   "source": [
    "new_value = 35\n",
    "predicted = predict(new_value, weight, bias)\n",
    "plt.scatter(trainX, trainY)\n",
    "plt.scatter(new_value, predicted)"
   ]
  },
  {
   "cell_type": "markdown",
   "metadata": {},
   "source": [
    "En la siguiente celda haremos lo mismo pero para todos los puntos de 30 a 70."
   ]
  },
  {
   "cell_type": "code",
   "execution_count": null,
   "metadata": {},
   "outputs": [],
   "source": [
    "def plot(weight, bias):\n",
    "    x = []\n",
    "    y = []\n",
    "    for i in range(30, 70):\n",
    "        predicted = predict(i, weight, bias)\n",
    "        x.append(i)\n",
    "        y.append(predicted)\n",
    "    plt.scatter(trainX, trainY)\n",
    "    plt.scatter(x, y)\n",
    "    \n",
    "plot(weight, bias)"
   ]
  },
  {
   "cell_type": "markdown",
   "metadata": {},
   "source": [
    "# Backpropagation"
   ]
  },
  {
   "cell_type": "markdown",
   "metadata": {},
   "source": [
    "En esta sección vamos a implementar una red neuronal con Feed Forward y Backpropagation sin utilizar librerías. No tendrás que programar nada, enfócate en entender el comportamiento de esta red neuronal."
   ]
  },
  {
   "cell_type": "code",
   "execution_count": 27,
   "metadata": {},
   "outputs": [],
   "source": [
    "def sigmoid(x):\n",
    "    return 1/(1+np.exp(-x))\n",
    "\n",
    "def sigmoid_deriv(x):\n",
    "    return x*(1-x)"
   ]
  },
  {
   "cell_type": "code",
   "execution_count": 28,
   "metadata": {},
   "outputs": [],
   "source": [
    "X = np.array([[0,0,1], [0,1,1], [1,0,1], [1,1,1]])\n",
    "y = np.array([[0], [1], [1], [0]])\n",
    "np.random.seed(1)"
   ]
  },
  {
   "cell_type": "code",
   "execution_count": 29,
   "metadata": {},
   "outputs": [
    {
     "name": "stdout",
     "output_type": "stream",
     "text": [
      "[[-0.16595599  0.44064899 -0.99977125 -0.39533485]\n",
      " [-0.70648822 -0.81532281 -0.62747958 -0.30887855]\n",
      " [-0.20646505  0.07763347 -0.16161097  0.370439  ]]\n",
      "[[-0.5910955 ]\n",
      " [ 0.75623487]\n",
      " [-0.94522481]\n",
      " [ 0.34093502]]\n"
     ]
    }
   ],
   "source": [
    "# Se inicializa el peso con promedio de 0\n",
    "weights0 = 2 * np.random.random((3,4)) - 1\n",
    "weights1 = 2 * np.random.random((4,1)) - 1\n",
    "\n",
    "print(weights0)\n",
    "print(weights1)"
   ]
  },
  {
   "cell_type": "code",
   "execution_count": 30,
   "metadata": {},
   "outputs": [
    {
     "name": "stdout",
     "output_type": "stream",
     "text": [
      "Error: 0.496410031903\n",
      "Error: 0.00858452565325\n",
      "Error: 0.00578945986251\n",
      "Error: 0.00462917677677\n",
      "Error: 0.00395876528027\n",
      "Error: 0.00351012256786\n",
      "Error: 0.00318350238587\n",
      "Error: 0.00293230634228\n",
      "Error: 0.00273150641821\n",
      "Error: 0.00256631724004\n"
     ]
    }
   ],
   "source": [
    "errors = []\n",
    "for i in range(100000):\n",
    "    # Feed forward\n",
    "    l0 = X\n",
    "    l1 = sigmoid(np.dot(l0, weights0))\n",
    "    l2 = sigmoid(np.dot(l1, weights1))\n",
    "    \n",
    "    l2_error = y - l2\n",
    "    l2_delta = l2_error*sigmoid_deriv(l2)\n",
    "    \n",
    "    # Agregamos a una lista para luego crear visualización\n",
    "    errors.append(np.mean(np.abs(l2_error)))\n",
    "    if (i% 10000) == 0:\n",
    "        print(\"Error:\", str(np.mean(np.abs(l2_error))))\n",
    "    \n",
    "    \n",
    "    l1_error = l2_delta.dot(weights1.T)\n",
    "    l1_delta = l1_error * sigmoid_deriv(l1)\n",
    "    \n",
    "    weights1 += l1.T.dot(l2_delta)\n",
    "    weights0 += l0.T.dot(l1_delta)"
   ]
  },
  {
   "cell_type": "code",
   "execution_count": 33,
   "metadata": {},
   "outputs": [
    {
     "data": {
      "text/plain": [
       "100000"
      ]
     },
     "execution_count": 33,
     "metadata": {},
     "output_type": "execute_result"
    }
   ],
   "source": [
    "len(errors)"
   ]
  },
  {
   "cell_type": "code",
   "execution_count": 34,
   "metadata": {},
   "outputs": [
    {
     "data": {
      "text/plain": [
       "<matplotlib.collections.PathCollection at 0x111db8a90>"
      ]
     },
     "execution_count": 34,
     "metadata": {},
     "output_type": "execute_result"
    },
    {
     "data": {
      "image/png": "[encoded data removed]",
      "text/plain": [
       "<matplotlib.figure.Figure at 0x1053f0860>"
      ]
     },
     "metadata": {},
     "output_type": "display_data"
    }
   ],
   "source": [
    "plt.scatter(range(len(errors)), errors)"
   ]
  },
  {
   "cell_type": "markdown",
   "metadata": {},
   "source": [
    "# Soluciones"
   ]
  },
  {
   "cell_type": "code",
   "execution_count": null,
   "metadata": {},
   "outputs": [],
   "source": [
    "#TODO: Implementa la función h(x) = w*x + b Función que predice costo de casa\n",
    "def predict(size, weight, bias):\n",
    "    \"\"\"\n",
    "    Función que predice el costo de una casa con una línea.\n",
    "    \n",
    "    Utiliza la función h(x) = x * w + b\n",
    "    \n",
    "    size: El tamaño de la casa en metros cuadrados\n",
    "    weight: El peso asignado al tamaño de la casa\n",
    "    bias: Para la regresión lineal, el valor predecido cuando el tamaño es 0.\n",
    "    \"\"\"\n",
    "    return size * weight + bias"
   ]
  },
  {
   "cell_type": "code",
   "execution_count": null,
   "metadata": {},
   "outputs": [],
   "source": [
    "#TODO: Implementa la función de pérdida y sus derivadas\n",
    "\n",
    "def loss_function(sizes, costs, weight, bias):\n",
    "    \"\"\"\n",
    "    Función que calcula el error de una propuesta de regresión lineal\n",
    "    \n",
    "    Utiliza la función h(x) = x * w + b\n",
    "    \n",
    "    sizes: Los tamaños de las casas en metros cuadrados.\n",
    "    costs: Los costos verdaderos de las casas en cientos de miles de dólares.\n",
    "    weight: El peso asignado al tamaño de la casa.\n",
    "    bias: Para la regresión lineal, el valor predecido cuando el tamaño es 0.\n",
    "    \"\"\"\n",
    "    totalError = 0\n",
    "    m = len(sizes)\n",
    "    \n",
    "    # Calcula el error con diferencia de cuadrados\n",
    "    for i in range(0, m):\n",
    "        # ¿Cuál es el valor de entrada y cuál es el valor verdadero?\n",
    "        x = sizes[i] \n",
    "        y = costs[i] \n",
    "        \n",
    "        # ¿Qué valor predicen tus datos? Utiliza la función predict\n",
    "        predicted = predict(x, weight, bias) \n",
    "        \n",
    "        # Revisa la función para calcular el error\n",
    "        totalError += (y - predicted) ** 2\n",
    "        \n",
    "    # Revisa la fórmula de MSE (Mean Squared Error)\n",
    "    return totalError / (2 * float(m))\n",
    "\n",
    "\n",
    "def loss_function_deriv_weight(size, cost, weight, bias, n):\n",
    "    \"\"\"\n",
    "    Función que calcula la derivada parcial según el peso de MSE\n",
    "    \n",
    "    Utiliza la función h'(x) = (-1/n) * (y - (mx + b))\n",
    "    \n",
    "    size: El tamaño de una casa en metros cuadrados.\n",
    "    cost: El costo real de la casa.\n",
    "    weight: El peso asignado al tamaño de esa casa.\n",
    "    bias: Para la regresión lineal, el valor predecido cuando el tamaño es 0.\n",
    "    n: El tamaño del dataset.\n",
    "    \"\"\"\n",
    "    return -(1/n) * size * (cost - predict(size, weight, bias))\n",
    "\n",
    "def loss_function_deriv_bias(size, cost, weight, bias, n):\n",
    "    \"\"\"\n",
    "    Función que calcula la derivada parcial según el bias de MSE\n",
    "    \n",
    "    Utiliza la función h'(x) = -1/n * (y - (mx + b))\n",
    "    \n",
    "    size: El tamaño de una casa en metros cuadrados.\n",
    "    cost: El costo real de la casa.\n",
    "    weight: El peso asignado al tamaño de esa casa.\n",
    "    bias: Para la regresión lineal, el valor predecido cuando el tamaño es 0.\n",
    "    n: El tamaño del dataset.\n",
    "    \"\"\"\n",
    "    return -(1/n) * (cost - predict(size, weight, bias))"
   ]
  },
  {
   "cell_type": "code",
   "execution_count": null,
   "metadata": {},
   "outputs": [],
   "source": [
    "# TODO: Calcula el paso de gradient\n",
    "def step_gradient(sizes, costs, weight, bias, learning_rate):\n",
    "    \"\"\"\n",
    "    Función que propone un nuevo bias y peso que reduce la función de error.\n",
    "    \n",
    "    sizes: Los tamaños de la casa.\n",
    "    cost: Los costos reales de la casa.\n",
    "    weight: Los pesos de la casa.\n",
    "    bias: Para la regresión lineal, el valor predecido cuando el tamaño es 0.\n",
    "    learning_rate: Qué tan rápido va a aprender\n",
    "    \"\"\"\n",
    "    \n",
    "    # El valor acumulado de la derivada en diferentes puntos. Inicialmente es 0.\n",
    "    weight_deriv = 0\n",
    "    bias_deriv = 0\n",
    "    \n",
    "    # El tamaño del dataset\n",
    "    m = float(len(sizes))\n",
    "    \n",
    "    # Para cada casa\n",
    "    for i in range(len(sizes)):\n",
    "        # ¿Cuál es su valor en X y en Y?\n",
    "        x = sizes[i]\n",
    "        y = costs[i]\n",
    "        \n",
    "        # Calcula las derivadas parciales del loss function\n",
    "        bias_deriv += loss_function_deriv_bias(x, y, weight, bias, m)\n",
    "        weight_deriv += loss_function_deriv_weight(x, y, weight, bias, m)\n",
    "    \n",
    "    # Da un paso en la dirección que minimice el error\n",
    "    weight = weight - (weight_deriv * learning_rate)\n",
    "    bias = bias - (learning_rate * bias_deriv)\n",
    "\n",
    "    return weight, bias"
   ]
  },
  {
   "cell_type": "code",
   "execution_count": null,
   "metadata": {},
   "outputs": [],
   "source": [
    "# TODO: Entrena nuestro modelo con Gradient Descent\n",
    "def train(sizes, costs, initial_weight, initial_bias, learning_rate, epoch):\n",
    "    \"\"\"\n",
    "    Función que utiliza Gradient Descent para minimizar error.\n",
    "    \n",
    "    sizes: Los tamaños de la casa.\n",
    "    cost: Los costos reales de la casa.\n",
    "    intial_weight: El peso inicial del modelo.\n",
    "    initial_bias: El bias inicial del modelo.\n",
    "    learning_rate: Qué tan rápido va a aprender.\n",
    "    epoch: Número de iteraciones sobre dataset.\n",
    "    \"\"\"\n",
    "    weight = initial_weight\n",
    "    bias = initial_bias\n",
    "   \n",
    "    # Itera varias veces sobre el dataset para minimizar el error\n",
    "    for i in range(epoch):\n",
    "        # Llama a step_gradient con sus argumentos correctos.\n",
    "        weight, bias = step_gradient(sizes, costs, weight, bias, learning_rate)\n",
    "        \n",
    "        if i%10 == 0:\n",
    "            print(\"Loss: \", str(loss_function(sizes, costs, weight, bias)), \"b: \" , bias, \"w: \", weight)\n",
    "    return weight, bias"
   ]
  },
  {
   "cell_type": "code",
   "execution_count": null,
   "metadata": {},
   "outputs": [],
   "source": []
  }
 ],
 "metadata": {
  "kernelspec": {
   "display_name": "Python 3",
   "language": "python",
   "name": "python3"
  },
  "language_info": {
   "codemirror_mode": {
    "name": "ipython",
    "version": 3
   },
   "file_extension": ".py",
   "mimetype": "text/x-python",
   "name": "python",
   "nbconvert_exporter": "python",
   "pygments_lexer": "ipython3",
   "version": "3.5.4"
  }
 },
 "nbformat": 4,
 "nbformat_minor": 2
}
