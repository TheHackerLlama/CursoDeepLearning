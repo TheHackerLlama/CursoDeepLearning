{
 "cells": [
  {
   "cell_type": "markdown",
   "metadata": {},
   "source": [
    "# Autoencoder sencillo\n",
    "Iniciaremos construyendo el autoencoder más sencillo. Usaremos una red neuronal de una capa como encoder y otra como decoder.\n"
   ]
  },
  {
   "cell_type": "code",
   "execution_count": 13,
   "metadata": {},
   "outputs": [],
   "source": [
    "from keras.layers import Input, Dense\n",
    "from keras.models import Model\n",
    "\n",
    "# Este es el tamaño de nuestra representación codificada\n",
    "encoding_dim = 32  # 32 enteros -> factor de compresión de 24.5 para imágenes de 784 pixeles\n",
    "\n",
    "# input placeholder\n",
    "input_img = Input(shape=(784,))\n",
    "\n",
    "# \"encoded\" es la representación codificada de la entrada\n",
    "encoded = Dense(encoding_dim, activation='relu')(input_img)\n",
    "\n",
    "# \"decoded\" es la reconstrucción de la entrada\n",
    "decoded = Dense(784, activation='sigmoid')(encoded)\n",
    "\n",
    "# el modelo mapea una entrada a su reconstrucción\n",
    "autoencoder = Model(input_img, decoded)"
   ]
  },
  {
   "cell_type": "markdown",
   "metadata": {},
   "source": [
    "Haremos un encoder separado"
   ]
  },
  {
   "cell_type": "code",
   "execution_count": 14,
   "metadata": {},
   "outputs": [],
   "source": [
    "# este modelo codifica\n",
    "encoder = Model(input_img, encoded)"
   ]
  },
  {
   "cell_type": "markdown",
   "metadata": {},
   "source": [
    "Decoder"
   ]
  },
  {
   "cell_type": "code",
   "execution_count": 15,
   "metadata": {},
   "outputs": [],
   "source": [
    "# placeholder para input de 32 dimensiones\n",
    "encoded_input = Input(shape=(encoding_dim, ))\n",
    "\n",
    "# sacamos la última capa del modelo autoencoder\n",
    "decoder_layer = autoencoder.layers[-1]\n",
    "\n",
    "# creamos modelo del decoder\n",
    "decoder = Model(encoded_input, decoder_layer(encoded_input))"
   ]
  },
  {
   "cell_type": "markdown",
   "metadata": {},
   "source": [
    "Ahora vamos a entrenarlo con los dígitos de MNIST. \n",
    "\n",
    "Primero, cnfigurameos el modelo para usar binary cross entropy y Adadelta."
   ]
  },
  {
   "cell_type": "code",
   "execution_count": 16,
   "metadata": {},
   "outputs": [],
   "source": [
    "autoencoder.compile(optimizer='adadelta', loss='binary_crossentropy')"
   ]
  },
  {
   "cell_type": "markdown",
   "metadata": {},
   "source": [
    "Preparamos la información de entrada. Estamos utilizando dígitos de MNIST. Como sólo nos interesa hacer el encoding/decoding, no necesitamos los labels. No es parte de este problema.\n",
    "\n",
    "También normalizamos todos los valores para que estén entre 0 y 1. También aplanamos las imágenes de 28x28 a vectores de 784."
   ]
  },
  {
   "cell_type": "code",
   "execution_count": 19,
   "metadata": {},
   "outputs": [],
   "source": [
    "from keras.datasets import mnist\n",
    "import numpy as np\n",
    "\n",
    "(x_train, _), (x_test, _) = mnist.load_data()"
   ]
  },
  {
   "cell_type": "code",
   "execution_count": 20,
   "metadata": {},
   "outputs": [
    {
     "name": "stdout",
     "output_type": "stream",
     "text": [
      "(60000, 784)\n",
      "(10000, 784)\n"
     ]
    }
   ],
   "source": [
    "x_train = x_train.astype('float32') / 255.\n",
    "x_test = x_test.astype('float32') / 255.\n",
    "x_train = x_train.reshape((len(x_train), np.prod(x_train.shape[1:])))\n",
    "x_test = x_test.reshape((len(x_test), np.prod(x_test.shape[1:])))\n",
    "print(x_train.shape)\n",
    "print(x_test.shape)"
   ]
  },
  {
   "cell_type": "markdown",
   "metadata": {},
   "source": [
    "Ahora podemos entrenar nuestro modelo 50 epochs:"
   ]
  },
  {
   "cell_type": "code",
   "execution_count": 21,
   "metadata": {},
   "outputs": [
    {
     "name": "stdout",
     "output_type": "stream",
     "text": [
      "Train on 60000 samples, validate on 10000 samples\n",
      "Epoch 1/50\n",
      "60000/60000 [==============================] - 4s 73us/step - loss: 0.3599 - val_loss: 0.2710\n",
      "Epoch 2/50\n",
      "60000/60000 [==============================] - 5s 83us/step - loss: 0.2643 - val_loss: 0.2536\n",
      "Epoch 3/50\n",
      "60000/60000 [==============================] - 5s 85us/step - loss: 0.2419 - val_loss: 0.2274\n",
      "Epoch 4/50\n",
      "60000/60000 [==============================] - 5s 75us/step - loss: 0.2192 - val_loss: 0.2088\n",
      "Epoch 5/50\n",
      "60000/60000 [==============================] - 5s 78us/step - loss: 0.2040 - val_loss: 0.1964\n",
      "Epoch 6/50\n",
      "60000/60000 [==============================] - 5s 76us/step - loss: 0.1935 - val_loss: 0.1876\n",
      "Epoch 7/50\n",
      "60000/60000 [==============================] - 5s 78us/step - loss: 0.1855 - val_loss: 0.1806\n",
      "Epoch 8/50\n",
      "60000/60000 [==============================] - 5s 79us/step - loss: 0.1790 - val_loss: 0.1745\n",
      "Epoch 9/50\n",
      "60000/60000 [==============================] - 5s 78us/step - loss: 0.1732 - val_loss: 0.1692\n",
      "Epoch 10/50\n",
      "60000/60000 [==============================] - 5s 82us/step - loss: 0.1681 - val_loss: 0.1643\n",
      "Epoch 11/50\n",
      "60000/60000 [==============================] - 5s 79us/step - loss: 0.1634 - val_loss: 0.1597\n",
      "Epoch 12/50\n",
      "60000/60000 [==============================] - 5s 86us/step - loss: 0.1592 - val_loss: 0.1558\n",
      "Epoch 13/50\n",
      "60000/60000 [==============================] - 5s 79us/step - loss: 0.1554 - val_loss: 0.1524\n",
      "Epoch 14/50\n",
      "60000/60000 [==============================] - 5s 76us/step - loss: 0.1519 - val_loss: 0.1489\n",
      "Epoch 15/50\n",
      "60000/60000 [==============================] - 5s 77us/step - loss: 0.1488 - val_loss: 0.1459\n",
      "Epoch 16/50\n",
      "60000/60000 [==============================] - 5s 80us/step - loss: 0.1459 - val_loss: 0.1431\n",
      "Epoch 17/50\n",
      "60000/60000 [==============================] - 4s 69us/step - loss: 0.1433 - val_loss: 0.1406\n",
      "Epoch 18/50\n",
      "60000/60000 [==============================] - 4s 65us/step - loss: 0.1408 - val_loss: 0.1381\n",
      "Epoch 19/50\n",
      "60000/60000 [==============================] - 5s 81us/step - loss: 0.1384 - val_loss: 0.1357\n",
      "Epoch 20/50\n",
      "60000/60000 [==============================] - 5s 82us/step - loss: 0.1361 - val_loss: 0.1335\n",
      "Epoch 21/50\n",
      "60000/60000 [==============================] - 5s 79us/step - loss: 0.1339 - val_loss: 0.1315\n",
      "Epoch 22/50\n",
      "60000/60000 [==============================] - 5s 78us/step - loss: 0.1318 - val_loss: 0.1293\n",
      "Epoch 23/50\n",
      "60000/60000 [==============================] - 5s 80us/step - loss: 0.1297 - val_loss: 0.1272\n",
      "Epoch 24/50\n",
      "60000/60000 [==============================] - 4s 74us/step - loss: 0.1278 - val_loss: 0.1253\n",
      "Epoch 25/50\n",
      "60000/60000 [==============================] - 4s 67us/step - loss: 0.1259 - val_loss: 0.1235\n",
      "Epoch 26/50\n",
      "60000/60000 [==============================] - 4s 65us/step - loss: 0.1241 - val_loss: 0.1217\n",
      "Epoch 27/50\n",
      "60000/60000 [==============================] - 4s 66us/step - loss: 0.1224 - val_loss: 0.1200\n",
      "Epoch 28/50\n",
      "60000/60000 [==============================] - 4s 63us/step - loss: 0.1208 - val_loss: 0.1185\n",
      "Epoch 29/50\n",
      "60000/60000 [==============================] - 4s 61us/step - loss: 0.1193 - val_loss: 0.1170\n",
      "Epoch 30/50\n",
      "60000/60000 [==============================] - 4s 60us/step - loss: 0.1178 - val_loss: 0.1156\n",
      "Epoch 31/50\n",
      "60000/60000 [==============================] - 4s 60us/step - loss: 0.1165 - val_loss: 0.1142\n",
      "Epoch 32/50\n",
      "60000/60000 [==============================] - 4s 60us/step - loss: 0.1152 - val_loss: 0.1129\n",
      "Epoch 33/50\n",
      "60000/60000 [==============================] - 4s 60us/step - loss: 0.1140 - val_loss: 0.1117\n",
      "Epoch 34/50\n",
      "60000/60000 [==============================] - 4s 60us/step - loss: 0.1128 - val_loss: 0.1107\n",
      "Epoch 35/50\n",
      "60000/60000 [==============================] - 4s 60us/step - loss: 0.1118 - val_loss: 0.1097\n",
      "Epoch 36/50\n",
      "60000/60000 [==============================] - 4s 60us/step - loss: 0.1108 - val_loss: 0.1087\n",
      "Epoch 37/50\n",
      "60000/60000 [==============================] - 4s 59us/step - loss: 0.1099 - val_loss: 0.1078\n",
      "Epoch 38/50\n",
      "60000/60000 [==============================] - 4s 60us/step - loss: 0.1091 - val_loss: 0.1070\n",
      "Epoch 39/50\n",
      "60000/60000 [==============================] - 4s 60us/step - loss: 0.1083 - val_loss: 0.1063\n",
      "Epoch 40/50\n",
      "60000/60000 [==============================] - 4s 60us/step - loss: 0.1076 - val_loss: 0.1056\n",
      "Epoch 41/50\n",
      "60000/60000 [==============================] - 4s 60us/step - loss: 0.1069 - val_loss: 0.1050\n",
      "Epoch 42/50\n",
      "60000/60000 [==============================] - 4s 60us/step - loss: 0.1063 - val_loss: 0.1044\n",
      "Epoch 43/50\n",
      "60000/60000 [==============================] - 4s 60us/step - loss: 0.1057 - val_loss: 0.1038\n",
      "Epoch 44/50\n",
      "60000/60000 [==============================] - 4s 60us/step - loss: 0.1052 - val_loss: 0.1033\n",
      "Epoch 45/50\n",
      "60000/60000 [==============================] - 4s 60us/step - loss: 0.1047 - val_loss: 0.1028\n",
      "Epoch 46/50\n",
      "60000/60000 [==============================] - 4s 59us/step - loss: 0.1042 - val_loss: 0.1024\n",
      "Epoch 47/50\n",
      "60000/60000 [==============================] - 4s 60us/step - loss: 0.1038 - val_loss: 0.1020\n",
      "Epoch 48/50\n",
      "60000/60000 [==============================] - 4s 60us/step - loss: 0.1034 - val_loss: 0.1016\n",
      "Epoch 49/50\n",
      "60000/60000 [==============================] - 4s 60us/step - loss: 0.1030 - val_loss: 0.1012\n",
      "Epoch 50/50\n",
      "60000/60000 [==============================] - 4s 60us/step - loss: 0.1027 - val_loss: 0.1009\n"
     ]
    },
    {
     "data": {
      "text/plain": [
       "<keras.callbacks.History at 0x1182c0630>"
      ]
     },
     "execution_count": 21,
     "metadata": {},
     "output_type": "execute_result"
    }
   ],
   "source": [
    "autoencoder.fit(x_train, x_train,\n",
    "                epochs=50,\n",
    "                batch_size=256,\n",
    "                shuffle=True,\n",
    "                validation_data=(x_test, x_test))"
   ]
  },
  {
   "cell_type": "markdown",
   "metadata": {},
   "source": [
    "Después de 50 epochs, el autoenocder parece llegar a un punto estable. En las siguientes celdas vamos a visualizar las imágenes y la reconstrucción. Como se puede ver, se pierde info."
   ]
  },
  {
   "cell_type": "code",
   "execution_count": 22,
   "metadata": {},
   "outputs": [],
   "source": [
    "# codificamos\n",
    "encoded_imgs = encoder.predict(x_test)\n",
    "\n",
    "# decodificamos\n",
    "decoded_imgs = decoder.predict(encoded_imgs)"
   ]
  },
  {
   "cell_type": "code",
   "execution_count": 23,
   "metadata": {},
   "outputs": [
    {
     "data": {
      "image/png": "[encoded data removed]",
      "text/plain": [
       "<matplotlib.figure.Figure at 0x11ae757b8>"
      ]
     },
     "metadata": {},
     "output_type": "display_data"
    }
   ],
   "source": [
    "import matplotlib.pyplot as plt\n",
    "\n",
    "n = 10\n",
    "plt.figure(figsize=(20, 4))\n",
    "for i in range(n):\n",
    "    # imagen original\n",
    "    ax = plt.subplot(2, n, i + 1)\n",
    "    plt.imshow(x_test[i].reshape(28, 28))\n",
    "    plt.gray()\n",
    "    ax.get_xaxis().set_visible(False)\n",
    "    ax.get_yaxis().set_visible(False)\n",
    "\n",
    "    # reconstrucción\n",
    "    ax = plt.subplot(2, n, i + 1 + n)\n",
    "    plt.imshow(decoded_imgs[i].reshape(28, 28))\n",
    "    plt.gray()\n",
    "    ax.get_xaxis().set_visible(False)\n",
    "    ax.get_yaxis().set_visible(False)\n",
    "plt.show()"
   ]
  },
  {
   "cell_type": "markdown",
   "metadata": {},
   "source": [
    "# Deep Autoencoder\n",
    "No tenemos que limitarnos a encoders y decoders de una capa, podemos hacerlos profundos."
   ]
  },
  {
   "cell_type": "code",
   "execution_count": 24,
   "metadata": {},
   "outputs": [],
   "source": [
    "input_img = Input(shape=(784,))\n",
    "encoded = Dense(128, activation='relu')(input_img)\n",
    "encoded = Dense(64, activation='relu')(encoded)\n",
    "encoded = Dense(32, activation='relu')(encoded)\n",
    "\n",
    "decoded = Dense(64, activation='relu')(encoded)\n",
    "decoded = Dense(128, activation='relu')(decoded)\n",
    "decoded = Dense(784, activation='sigmoid')(decoded)"
   ]
  },
  {
   "cell_type": "code",
   "execution_count": 25,
   "metadata": {},
   "outputs": [
    {
     "name": "stdout",
     "output_type": "stream",
     "text": [
      "Train on 60000 samples, validate on 10000 samples\n",
      "Epoch 1/100\n",
      "60000/60000 [==============================] - 6s 102us/step - loss: 0.3538 - val_loss: 0.2633\n",
      "Epoch 2/100\n",
      "60000/60000 [==============================] - 8s 138us/step - loss: 0.2572 - val_loss: 0.2497\n",
      "Epoch 3/100\n",
      "60000/60000 [==============================] - 9s 142us/step - loss: 0.2431 - val_loss: 0.2377\n",
      "Epoch 4/100\n",
      "60000/60000 [==============================] - 8s 130us/step - loss: 0.2298 - val_loss: 0.2191\n",
      "Epoch 5/100\n",
      "60000/60000 [==============================] - 7s 122us/step - loss: 0.2140 - val_loss: 0.2065\n",
      "Epoch 6/100\n",
      "60000/60000 [==============================] - 7s 119us/step - loss: 0.2020 - val_loss: 0.1942\n",
      "Epoch 7/100\n",
      "60000/60000 [==============================] - 8s 127us/step - loss: 0.1912 - val_loss: 0.1873\n",
      "Epoch 8/100\n",
      "60000/60000 [==============================] - 7s 119us/step - loss: 0.1850 - val_loss: 0.1815\n",
      "Epoch 9/100\n",
      "60000/60000 [==============================] - 8s 140us/step - loss: 0.1799 - val_loss: 0.1757\n",
      "Epoch 10/100\n",
      "60000/60000 [==============================] - 7s 121us/step - loss: 0.1748 - val_loss: 0.1722\n",
      "Epoch 11/100\n",
      "60000/60000 [==============================] - 7s 122us/step - loss: 0.1700 - val_loss: 0.1666\n",
      "Epoch 12/100\n",
      "60000/60000 [==============================] - 7s 120us/step - loss: 0.1650 - val_loss: 0.1591\n",
      "Epoch 13/100\n",
      "60000/60000 [==============================] - 7s 119us/step - loss: 0.1607 - val_loss: 0.1564\n",
      "Epoch 14/100\n",
      "60000/60000 [==============================] - 7s 119us/step - loss: 0.1570 - val_loss: 0.1548\n",
      "Epoch 15/100\n",
      "60000/60000 [==============================] - 7s 124us/step - loss: 0.1537 - val_loss: 0.1510\n",
      "Epoch 16/100\n",
      "60000/60000 [==============================] - 8s 129us/step - loss: 0.1509 - val_loss: 0.1478\n",
      "Epoch 17/100\n",
      "60000/60000 [==============================] - 7s 119us/step - loss: 0.1482 - val_loss: 0.1441\n",
      "Epoch 18/100\n",
      "60000/60000 [==============================] - 7s 120us/step - loss: 0.1461 - val_loss: 0.1436\n",
      "Epoch 19/100\n",
      "60000/60000 [==============================] - 7s 116us/step - loss: 0.1443 - val_loss: 0.1416\n",
      "Epoch 20/100\n",
      "60000/60000 [==============================] - 7s 121us/step - loss: 0.1429 - val_loss: 0.1397\n",
      "Epoch 21/100\n",
      "60000/60000 [==============================] - 7s 120us/step - loss: 0.1413 - val_loss: 0.1396\n",
      "Epoch 22/100\n",
      "60000/60000 [==============================] - 7s 120us/step - loss: 0.1402 - val_loss: 0.1379\n",
      "Epoch 23/100\n",
      "60000/60000 [==============================] - 7s 119us/step - loss: 0.1388 - val_loss: 0.1360\n",
      "Epoch 24/100\n",
      "60000/60000 [==============================] - 8s 125us/step - loss: 0.1374 - val_loss: 0.1371\n",
      "Epoch 25/100\n",
      "60000/60000 [==============================] - 7s 118us/step - loss: 0.1361 - val_loss: 0.1328\n",
      "Epoch 26/100\n",
      "60000/60000 [==============================] - 9s 143us/step - loss: 0.1348 - val_loss: 0.1317\n",
      "Epoch 27/100\n",
      "60000/60000 [==============================] - 7s 119us/step - loss: 0.1333 - val_loss: 0.1302\n",
      "Epoch 28/100\n",
      "60000/60000 [==============================] - 7s 124us/step - loss: 0.1320 - val_loss: 0.1294\n",
      "Epoch 29/100\n",
      "60000/60000 [==============================] - 7s 114us/step - loss: 0.1308 - val_loss: 0.1283\n",
      "Epoch 30/100\n",
      "60000/60000 [==============================] - 7s 109us/step - loss: 0.1298 - val_loss: 0.1284\n",
      "Epoch 31/100\n",
      "60000/60000 [==============================] - 8s 135us/step - loss: 0.1290 - val_loss: 0.1272\n",
      "Epoch 32/100\n",
      "60000/60000 [==============================] - 7s 122us/step - loss: 0.1281 - val_loss: 0.1282\n",
      "Epoch 33/100\n",
      "60000/60000 [==============================] - 7s 119us/step - loss: 0.1271 - val_loss: 0.1265\n",
      "Epoch 34/100\n",
      "60000/60000 [==============================] - 7s 124us/step - loss: 0.1265 - val_loss: 0.1260\n",
      "Epoch 35/100\n",
      "60000/60000 [==============================] - 7s 118us/step - loss: 0.1258 - val_loss: 0.1259\n",
      "Epoch 36/100\n",
      "60000/60000 [==============================] - 6s 100us/step - loss: 0.1248 - val_loss: 0.1238\n",
      "Epoch 37/100\n",
      "60000/60000 [==============================] - 7s 120us/step - loss: 0.1243 - val_loss: 0.1250\n",
      "Epoch 38/100\n",
      "60000/60000 [==============================] - 7s 118us/step - loss: 0.1235 - val_loss: 0.1223\n",
      "Epoch 39/100\n",
      "60000/60000 [==============================] - 7s 109us/step - loss: 0.1227 - val_loss: 0.1212\n",
      "Epoch 40/100\n",
      "60000/60000 [==============================] - 7s 118us/step - loss: 0.1221 - val_loss: 0.1198\n",
      "Epoch 41/100\n",
      "60000/60000 [==============================] - 8s 135us/step - loss: 0.1213 - val_loss: 0.1204\n",
      "Epoch 42/100\n",
      "60000/60000 [==============================] - 7s 121us/step - loss: 0.1206 - val_loss: 0.1181\n",
      "Epoch 43/100\n",
      "60000/60000 [==============================] - 7s 120us/step - loss: 0.1198 - val_loss: 0.1178\n",
      "Epoch 44/100\n",
      "60000/60000 [==============================] - 7s 113us/step - loss: 0.1191 - val_loss: 0.1172\n",
      "Epoch 45/100\n",
      "60000/60000 [==============================] - 6s 100us/step - loss: 0.1185 - val_loss: 0.1160\n",
      "Epoch 46/100\n",
      "60000/60000 [==============================] - 6s 94us/step - loss: 0.1179 - val_loss: 0.1154\n",
      "Epoch 47/100\n",
      "60000/60000 [==============================] - 7s 115us/step - loss: 0.1173 - val_loss: 0.1160\n",
      "Epoch 48/100\n",
      "60000/60000 [==============================] - 9s 148us/step - loss: 0.1168 - val_loss: 0.1159\n",
      "Epoch 49/100\n",
      "60000/60000 [==============================] - 9s 147us/step - loss: 0.1165 - val_loss: 0.1151\n",
      "Epoch 50/100\n",
      "60000/60000 [==============================] - 10s 161us/step - loss: 0.1158 - val_loss: 0.1140\n",
      "Epoch 51/100\n",
      "60000/60000 [==============================] - 12s 195us/step - loss: 0.1154 - val_loss: 0.1147\n",
      "Epoch 52/100\n",
      "60000/60000 [==============================] - 9s 151us/step - loss: 0.1150 - val_loss: 0.1154\n",
      "Epoch 53/100\n",
      "60000/60000 [==============================] - 9s 155us/step - loss: 0.1144 - val_loss: 0.1114\n",
      "Epoch 54/100\n",
      "60000/60000 [==============================] - 8s 133us/step - loss: 0.1138 - val_loss: 0.1116\n",
      "Epoch 55/100\n",
      "60000/60000 [==============================] - 11s 188us/step - loss: 0.1136 - val_loss: 0.1135\n",
      "Epoch 56/100\n",
      "60000/60000 [==============================] - 7s 115us/step - loss: 0.1131 - val_loss: 0.1111\n",
      "Epoch 57/100\n",
      "60000/60000 [==============================] - 6s 99us/step - loss: 0.1125 - val_loss: 0.1103\n",
      "Epoch 58/100\n",
      "60000/60000 [==============================] - 6s 96us/step - loss: 0.1122 - val_loss: 0.1116\n",
      "Epoch 59/100\n",
      "60000/60000 [==============================] - 6s 96us/step - loss: 0.1119 - val_loss: 0.1122\n",
      "Epoch 60/100\n",
      "60000/60000 [==============================] - 8s 138us/step - loss: 0.1117 - val_loss: 0.1119\n",
      "Epoch 61/100\n",
      "60000/60000 [==============================] - 12s 206us/step - loss: 0.1115 - val_loss: 0.1094\n",
      "Epoch 62/100\n",
      "60000/60000 [==============================] - 11s 184us/step - loss: 0.1112 - val_loss: 0.1121\n",
      "Epoch 63/100\n",
      "60000/60000 [==============================] - 11s 180us/step - loss: 0.1110 - val_loss: 0.1099\n",
      "Epoch 64/100\n",
      "60000/60000 [==============================] - 12s 206us/step - loss: 0.1107 - val_loss: 0.1096\n",
      "Epoch 65/100\n",
      "60000/60000 [==============================] - 10s 165us/step - loss: 0.1101 - val_loss: 0.1096\n",
      "Epoch 66/100\n",
      "60000/60000 [==============================] - 8s 128us/step - loss: 0.1098 - val_loss: 0.1085\n",
      "Epoch 67/100\n",
      "60000/60000 [==============================] - 8s 131us/step - loss: 0.1095 - val_loss: 0.1085\n",
      "Epoch 68/100\n",
      "60000/60000 [==============================] - 8s 133us/step - loss: 0.1092 - val_loss: 0.1075\n",
      "Epoch 69/100\n",
      "60000/60000 [==============================] - 10s 170us/step - loss: 0.1092 - val_loss: 0.1068\n",
      "Epoch 70/100\n",
      "60000/60000 [==============================] - 12s 202us/step - loss: 0.1090 - val_loss: 0.1069\n",
      "Epoch 71/100\n",
      "60000/60000 [==============================] - 7s 122us/step - loss: 0.1083 - val_loss: 0.1095\n",
      "Epoch 72/100\n",
      "60000/60000 [==============================] - 9s 156us/step - loss: 0.1082 - val_loss: 0.1064\n",
      "Epoch 73/100\n",
      "60000/60000 [==============================] - 11s 184us/step - loss: 0.1081 - val_loss: 0.1076\n",
      "Epoch 74/100\n",
      "60000/60000 [==============================] - 11s 177us/step - loss: 0.1078 - val_loss: 0.1060\n",
      "Epoch 75/100\n",
      "60000/60000 [==============================] - 11s 185us/step - loss: 0.1075 - val_loss: 0.1064\n",
      "Epoch 76/100\n"
     ]
    },
    {
     "name": "stdout",
     "output_type": "stream",
     "text": [
      "60000/60000 [==============================] - 11s 176us/step - loss: 0.1072 - val_loss: 0.1059\n",
      "Epoch 77/100\n",
      "60000/60000 [==============================] - 10s 171us/step - loss: 0.1071 - val_loss: 0.1062\n",
      "Epoch 78/100\n",
      "60000/60000 [==============================] - 10s 175us/step - loss: 0.1068 - val_loss: 0.1048\n",
      "Epoch 79/100\n",
      "60000/60000 [==============================] - 10s 170us/step - loss: 0.1064 - val_loss: 0.1059\n",
      "Epoch 80/100\n",
      "60000/60000 [==============================] - 10s 172us/step - loss: 0.1065 - val_loss: 0.1066\n",
      "Epoch 81/100\n",
      "60000/60000 [==============================] - 10s 169us/step - loss: 0.1059 - val_loss: 0.1038\n",
      "Epoch 82/100\n",
      "60000/60000 [==============================] - 10s 167us/step - loss: 0.1058 - val_loss: 0.1055\n",
      "Epoch 83/100\n",
      "60000/60000 [==============================] - 10s 175us/step - loss: 0.1055 - val_loss: 0.1026\n",
      "Epoch 84/100\n",
      "60000/60000 [==============================] - 9s 153us/step - loss: 0.1055 - val_loss: 0.1028\n",
      "Epoch 85/100\n",
      "60000/60000 [==============================] - 10s 173us/step - loss: 0.1052 - val_loss: 0.1032\n",
      "Epoch 86/100\n",
      "60000/60000 [==============================] - 11s 175us/step - loss: 0.1050 - val_loss: 0.1052\n",
      "Epoch 87/100\n",
      "60000/60000 [==============================] - 9s 157us/step - loss: 0.1048 - val_loss: 0.1041\n",
      "Epoch 88/100\n",
      "60000/60000 [==============================] - 10s 173us/step - loss: 0.1045 - val_loss: 0.1039\n",
      "Epoch 89/100\n",
      "60000/60000 [==============================] - 10s 173us/step - loss: 0.1042 - val_loss: 0.1027\n",
      "Epoch 90/100\n",
      "60000/60000 [==============================] - 10s 162us/step - loss: 0.1040 - val_loss: 0.1032\n",
      "Epoch 91/100\n",
      "60000/60000 [==============================] - 10s 164us/step - loss: 0.1038 - val_loss: 0.1029\n",
      "Epoch 92/100\n",
      "60000/60000 [==============================] - 11s 179us/step - loss: 0.1035 - val_loss: 0.1027\n",
      "Epoch 93/100\n",
      "60000/60000 [==============================] - 10s 169us/step - loss: 0.1032 - val_loss: 0.1011\n",
      "Epoch 94/100\n",
      "60000/60000 [==============================] - 11s 176us/step - loss: 0.1032 - val_loss: 0.1050\n",
      "Epoch 95/100\n",
      "60000/60000 [==============================] - 10s 171us/step - loss: 0.1029 - val_loss: 0.1012\n",
      "Epoch 96/100\n",
      "60000/60000 [==============================] - 11s 182us/step - loss: 0.1029 - val_loss: 0.1028\n",
      "Epoch 97/100\n",
      "60000/60000 [==============================] - 10s 160us/step - loss: 0.1027 - val_loss: 0.1014\n",
      "Epoch 98/100\n",
      "60000/60000 [==============================] - 9s 153us/step - loss: 0.1024 - val_loss: 0.1016\n",
      "Epoch 99/100\n",
      "60000/60000 [==============================] - 11s 177us/step - loss: 0.1023 - val_loss: 0.1011\n",
      "Epoch 100/100\n",
      "60000/60000 [==============================] - 10s 174us/step - loss: 0.1020 - val_loss: 0.1007\n"
     ]
    },
    {
     "data": {
      "text/plain": [
       "<keras.callbacks.History at 0x129ad7c88>"
      ]
     },
     "execution_count": 25,
     "metadata": {},
     "output_type": "execute_result"
    }
   ],
   "source": [
    "autoencoder = Model(input_img, decoded)\n",
    "autoencoder.compile(optimizer='adadelta', loss='binary_crossentropy')\n",
    "\n",
    "autoencoder.fit(x_train, x_train,\n",
    "                epochs=100,\n",
    "                batch_size=256,\n",
    "                shuffle=True,\n",
    "                validation_data=(x_test, x_test))"
   ]
  },
  {
   "cell_type": "code",
   "execution_count": 26,
   "metadata": {},
   "outputs": [],
   "source": [
    "# codificamos\n",
    "encoded_imgs = encoder.predict(x_test)\n",
    "\n",
    "# decodificamos\n",
    "decoded_imgs = decoder.predict(encoded_imgs)"
   ]
  },
  {
   "cell_type": "code",
   "execution_count": 27,
   "metadata": {},
   "outputs": [
    {
     "data": {
      "image/png": "[encoded data removed]",
      "text/plain": [
       "<matplotlib.figure.Figure at 0x129a10240>"
      ]
     },
     "metadata": {},
     "output_type": "display_data"
    }
   ],
   "source": [
    "n = 10\n",
    "plt.figure(figsize=(20, 4))\n",
    "for i in range(n):\n",
    "    # imagen original\n",
    "    ax = plt.subplot(2, n, i + 1)\n",
    "    plt.imshow(x_test[i].reshape(28, 28))\n",
    "    plt.gray()\n",
    "    ax.get_xaxis().set_visible(False)\n",
    "    ax.get_yaxis().set_visible(False)\n",
    "\n",
    "    # reconstrucción\n",
    "    ax = plt.subplot(2, n, i + 1 + n)\n",
    "    plt.imshow(decoded_imgs[i].reshape(28, 28))\n",
    "    plt.gray()\n",
    "    ax.get_xaxis().set_visible(False)\n",
    "    ax.get_yaxis().set_visible(False)\n",
    "plt.show()"
   ]
  },
  {
   "cell_type": "markdown",
   "metadata": {},
   "source": [
    "# Convolutional Autoencoder\n",
    "\n",
    "Como nuestro input son imágenes, tiene sentido usar CNNs como encoders y decoders. En ambientes prácticos, cualquier autoencoder aplicado en imágenes es convolucional.\n",
    "\n",
    "decoder: Será una serie de capas Conv2D y MaxPooling2D. MaxPooling2D hace down-sampling (reduce dimensiones).\n",
    "encoder: Será una serie de Conv2D y UpSampling2D (aumenta dimensiones)."
   ]
  },
  {
   "cell_type": "code",
   "execution_count": 28,
   "metadata": {},
   "outputs": [],
   "source": [
    "from keras.layers import Input, Dense, Conv2D, MaxPooling2D, UpSampling2D\n",
    "from keras.models import Model\n",
    "from keras import backend as K\n",
    "\n",
    "input_img = Input(shape=(28, 28, 1))  \n",
    "\n",
    "x = Conv2D(16, (3, 3), activation='relu', padding='same')(input_img)\n",
    "x = MaxPooling2D((2, 2), padding='same')(x)\n",
    "x = Conv2D(8, (3, 3), activation='relu', padding='same')(x)\n",
    "x = MaxPooling2D((2, 2), padding='same')(x)\n",
    "x = Conv2D(8, (3, 3), activation='relu', padding='same')(x)\n",
    "encoded = MaxPooling2D((2, 2), padding='same')(x)\n",
    "\n",
    "# En este punto, la imagen es una representación de (4, 4, 8) - 128 dimensiones\n",
    "\n",
    "x = Conv2D(8, (3, 3), activation='relu', padding='same')(encoded)\n",
    "x = UpSampling2D((2, 2))(x)\n",
    "x = Conv2D(8, (3, 3), activation='relu', padding='same')(x)\n",
    "x = UpSampling2D((2, 2))(x)\n",
    "x = Conv2D(16, (3, 3), activation='relu')(x)\n",
    "x = UpSampling2D((2, 2))(x)\n",
    "decoded = Conv2D(1, (3, 3), activation='sigmoid', padding='same')(x)\n",
    "\n",
    "autoencoder = Model(input_img, decoded)\n",
    "autoencoder.compile(optimizer='adadelta', loss='binary_crossentropy')"
   ]
  },
  {
   "cell_type": "markdown",
   "metadata": {},
   "source": [
    "Cargaremos de vuelta MNIST y usaremos dígitos en la forma (3, 28, 28)"
   ]
  },
  {
   "cell_type": "code",
   "execution_count": 30,
   "metadata": {},
   "outputs": [],
   "source": [
    "from keras.datasets import mnist\n",
    "import numpy as np\n",
    "\n",
    "(x_train, _), (x_test, _) = mnist.load_data()\n",
    "\n",
    "x_train = x_train.astype('float32') / 255.\n",
    "x_test = x_test.astype('float32') / 255.\n",
    "x_train = np.reshape(x_train, (len(x_train), 28, 28, 1))\n",
    "x_test = np.reshape(x_test, (len(x_test), 28, 28, 1))"
   ]
  },
  {
   "cell_type": "code",
   "execution_count": 32,
   "metadata": {},
   "outputs": [
    {
     "name": "stdout",
     "output_type": "stream",
     "text": [
      "Train on 60000 samples, validate on 10000 samples\n",
      "Epoch 1/5\n",
      "60000/60000 [==============================] - 116s 2ms/step - loss: 0.1450 - val_loss: 0.1365\n",
      "Epoch 2/5\n",
      "60000/60000 [==============================] - 114s 2ms/step - loss: 0.1355 - val_loss: 0.1402\n",
      "Epoch 3/5\n",
      "60000/60000 [==============================] - 116s 2ms/step - loss: 0.1302 - val_loss: 0.1273\n",
      "Epoch 4/5\n",
      "60000/60000 [==============================] - 116s 2ms/step - loss: 0.1267 - val_loss: 0.1290\n",
      "Epoch 5/5\n",
      "60000/60000 [==============================] - 119s 2ms/step - loss: 0.1237 - val_loss: 0.1243\n"
     ]
    },
    {
     "data": {
      "text/plain": [
       "<keras.callbacks.History at 0x10b92d160>"
      ]
     },
     "execution_count": 32,
     "metadata": {},
     "output_type": "execute_result"
    }
   ],
   "source": [
    "autoencoder.fit(x_train, x_train,\n",
    "                epochs=5,\n",
    "                batch_size=128,\n",
    "                shuffle=True,\n",
    "                validation_data=(x_test, x_test))"
   ]
  },
  {
   "cell_type": "code",
   "execution_count": 35,
   "metadata": {},
   "outputs": [],
   "source": [
    "import matplotlib.pyplot as plt\n",
    "%matplotlib inline\n",
    "\n",
    "# utility function for showing images\n",
    "def show_imgs(x_test, decoded_imgs=None, n=10):\n",
    "    plt.figure(figsize=(20, 4))\n",
    "    for i in range(n):\n",
    "        ax = plt.subplot(2, n, i+1)\n",
    "        plt.imshow(x_test[i].reshape(28,28))\n",
    "        plt.gray()\n",
    "        ax.get_xaxis().set_visible(False)\n",
    "        ax.get_yaxis().set_visible(False)\n",
    "\n",
    "        if decoded_imgs is not None:\n",
    "            ax = plt.subplot(2, n, i+ 1 +n)\n",
    "            plt.imshow(decoded_imgs[i].reshape(28,28))\n",
    "            plt.gray()\n",
    "            ax.get_xaxis().set_visible(False)\n",
    "            ax.get_yaxis().set_visible(False)\n",
    "    plt.show()"
   ]
  },
  {
   "cell_type": "code",
   "execution_count": 37,
   "metadata": {},
   "outputs": [
    {
     "name": "stdout",
     "output_type": "stream",
     "text": [
      "input (upper row)\n",
      "decoded (bottom row)\n"
     ]
    },
    {
     "data": {
      "image/png": "[encoded data removed]",
      "text/plain": [
       "<matplotlib.figure.Figure at 0x11ae697f0>"
      ]
     },
     "metadata": {},
     "output_type": "display_data"
    }
   ],
   "source": [
    "decoded_imgs = autoencoder.predict(x_test)\n",
    "print(\"input (upper row)\\ndecoded (bottom row)\")\n",
    "show_imgs(x_test, decoded_imgs)"
   ]
  },
  {
   "cell_type": "markdown",
   "metadata": {},
   "source": [
    "Esta es la representación codificada:"
   ]
  },
  {
   "cell_type": "markdown",
   "metadata": {},
   "source": [
    "# Denoising"
   ]
  },
  {
   "cell_type": "code",
   "execution_count": 40,
   "metadata": {},
   "outputs": [
    {
     "data": {
      "image/png": "[encoded data removed]",
      "text/plain": [
       "<matplotlib.figure.Figure at 0x119560860>"
      ]
     },
     "metadata": {},
     "output_type": "display_data"
    }
   ],
   "source": [
    "noise_factor = 0.5 \n",
    "x_train_noisy = x_train + noise_factor * np.random.normal(loc=0.0, scale=1.0, size=x_train.shape) \n",
    "x_test_noisy = x_test + noise_factor * np.random.normal(loc=0.0, scale=1.0, size=x_test.shape) \n",
    "x_train_noisy = np.clip(x_train_noisy, 0., 1.) \n",
    "x_test_noisy = np.clip(x_test_noisy, 0., 1.)\n",
    "\n",
    "show_imgs(x_test_noisy)"
   ]
  },
  {
   "cell_type": "code",
   "execution_count": 42,
   "metadata": {},
   "outputs": [
    {
     "name": "stderr",
     "output_type": "stream",
     "text": [
      "/Users/osanseviero/anaconda3/envs/curso-dl/lib/python3.5/site-packages/ipykernel_launcher.py:3: UserWarning: The `nb_epoch` argument in `fit` has been renamed `epochs`.\n",
      "  This is separate from the ipykernel package so we can avoid doing imports until\n"
     ]
    },
    {
     "name": "stdout",
     "output_type": "stream",
     "text": [
      "Train on 60000 samples, validate on 10000 samples\n",
      "Epoch 1/1\n",
      "60000/60000 [==============================] - 130s 2ms/step - loss: 0.1434 - val_loss: 0.1411\n"
     ]
    },
    {
     "data": {
      "text/plain": [
       "<keras.callbacks.History at 0x1195533c8>"
      ]
     },
     "execution_count": 42,
     "metadata": {},
     "output_type": "execute_result"
    }
   ],
   "source": [
    "# Cambiar a 50 ó 100 epochs\n",
    "autoencoder.fit(x_train_noisy, x_train, nb_epoch=1, batch_size=128,\n",
    "                shuffle=True, validation_data=(x_test_noisy, x_test))"
   ]
  },
  {
   "cell_type": "code",
   "execution_count": 43,
   "metadata": {},
   "outputs": [
    {
     "data": {
      "image/png": "[encoded data removed]",
      "text/plain": [
       "<matplotlib.figure.Figure at 0x1198e20f0>"
      ]
     },
     "metadata": {},
     "output_type": "display_data"
    }
   ],
   "source": [
    "decoded_imgs = autoencoder.predict(x_test_noisy)\n",
    "show_imgs(x_test_noisy, decoded_imgs)"
   ]
  },
  {
   "cell_type": "code",
   "execution_count": null,
   "metadata": {},
   "outputs": [],
   "source": []
  }
 ],
 "metadata": {
  "kernelspec": {
   "display_name": "Python 3",
   "language": "python",
   "name": "python3"
  },
  "language_info": {
   "codemirror_mode": {
    "name": "ipython",
    "version": 3
   },
   "file_extension": ".py",
   "mimetype": "text/x-python",
   "name": "python",
   "nbconvert_exporter": "python",
   "pygments_lexer": "ipython3",
   "version": "3.5.4"
  }
 },
 "nbformat": 4,
 "nbformat_minor": 2
}
