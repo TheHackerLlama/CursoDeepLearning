{
 "cells": [
  {
   "cell_type": "markdown",
   "metadata": {},
   "source": [
    "# CIFAR\n",
    "En este problema resolveremos CIFAR utilizando una red neuronal convolucional (CNN)\n",
    "\n",
    "## Paso 1. Cargar información"
   ]
  },
  {
   "cell_type": "code",
   "execution_count": null,
   "metadata": {},
   "outputs": [],
   "source": [
    "import keras\n",
    "from keras.datasets import cifar10\n",
    "\n",
    "(x_train, y_train), (x_test, y_test) = cifar10.load_data()"
   ]
  },
  {
   "cell_type": "markdown",
   "metadata": {},
   "source": [
    "## Paso 2 y 3. Comprender la información y modificarla.\n",
    "\n",
    "En la siguiente celda vamos a visualizar el dataset"
   ]
  },
  {
   "cell_type": "code",
   "execution_count": null,
   "metadata": {},
   "outputs": [],
   "source": [
    "import numpy as np\n",
    "import matplotlib.pyplot as plt\n",
    "%matplotlib inline\n",
    "\n",
    "fig = plt.figure(figsize=(20,5))\n",
    "for i in range(36):\n",
    "    ax = fig.add_subplot(3, 12, i + 1, xticks=[], yticks=[])\n",
    "    ax.imshow(np.squeeze(x_train[i]))"
   ]
  },
  {
   "cell_type": "markdown",
   "metadata": {},
   "source": [
    "### Escalamos las imágenes para que vayan de 0 a 1 en vez de 0 a 255"
   ]
  },
  {
   "cell_type": "code",
   "execution_count": null,
   "metadata": {},
   "outputs": [],
   "source": [
    "x_train = x_train.astype('float32')/255\n",
    "x_test = x_test.astype('float32')/255"
   ]
  },
  {
   "cell_type": "markdown",
   "metadata": {},
   "source": [
    "### Hacemos One-hot encoding del label"
   ]
  },
  {
   "cell_type": "code",
   "execution_count": null,
   "metadata": {},
   "outputs": [],
   "source": [
    "from keras.utils import np_utils\n",
    "\n",
    "num_classes = len(np.unique(y_train))\n",
    "y_train = keras.utils.to_categorical(y_train, num_classes)\n",
    "y_test = keras.utils.to_categorical(y_test, num_classes)"
   ]
  },
  {
   "cell_type": "markdown",
   "metadata": {},
   "source": [
    "### Separamos el training set en training y validation. Esto es un paso nuevo"
   ]
  },
  {
   "cell_type": "code",
   "execution_count": null,
   "metadata": {},
   "outputs": [],
   "source": [
    "# break training set into training and validation sets\n",
    "(x_train, x_valid) = x_train[5000:], x_train[:5000]\n",
    "(y_train, y_valid) = y_train[5000:], y_train[:5000]\n",
    "\n",
    "# print shape of training set\n",
    "print('x_train shape:', x_train.shape)\n",
    "\n",
    "# print number of training, validation, and test images\n",
    "print(x_train.shape[0], 'train samples')\n",
    "print(x_test.shape[0], 'test samples')\n",
    "print(x_valid.shape[0], 'validation samples')"
   ]
  },
  {
   "cell_type": "markdown",
   "metadata": {},
   "source": [
    "## Paso 4. Construimos arquitectura del modelo\n",
    "Sigue los pasos explicados en los comentarios"
   ]
  },
  {
   "cell_type": "code",
   "execution_count": null,
   "metadata": {},
   "outputs": [],
   "source": [
    "from keras.models import Sequential\n",
    "from keras.layers import Conv2D, MaxPooling2D, Flatten, Dense, Dropout\n",
    "\n",
    "#TODO: Definir el modelo\n",
    "\n",
    "# Empezar con capa secuencial\n",
    "\n",
    "\n",
    "# Agrega una capa Convolucional con las siguientes propiedades:\n",
    "    # 16 filtros de 2x2\n",
    "    # Padding de same, no nos importan los pixeles de los bordes\n",
    "    # Con función de activación ReLU\n",
    "    # ¿De qué tamaño es una imagen de color? (son 3 dimensiones, revisa su tamaño antes)\n",
    "\n",
    "\n",
    "# No cambies esta capa, la explicaremos en la siguiente sesión\n",
    "model.add(MaxPooling2D(pool_size=2))\n",
    "\n",
    "# Agrega una capa Convolucional con las siguientes propiedades:\n",
    "    # 32 filtros de 2x2\n",
    "    # Padding de same, no nos importan los pixeles de los bordes\n",
    "    # Con función de activación ReLU\n",
    "\n",
    "\n",
    "# No cambies esta capa, la explicaremos en la siguiente sesión\n",
    "model.add(MaxPooling2D(pool_size=2))\n",
    "\n",
    "# Agrega una capa Convolucional con las siguientes propiedades:\n",
    "    # 64 filtros de 2x2\n",
    "    # Padding de same, no nos importan los pixeles de los bordes\n",
    "    # Con función de activación ReLU\n",
    "\n",
    "    \n",
    "model.add(MaxPooling2D(pool_size=2))\n",
    "\n",
    "# Agrega una capa Dropout\n",
    "\n",
    "\n",
    "# Agrega una capa para aplanar. No necesitas especificar ningún argumento\n",
    "\n",
    "\n",
    "# Agrega una capa densa de 500 neuronas con activación ReLU. Agrega un Dropout después\n",
    "\n",
    "\n",
    "# Agrega una capa densa con 10 neuronas (10 clases) y con activación Softmax\n",
    "\n",
    "\n",
    "model.summary()"
   ]
  },
  {
   "cell_type": "code",
   "execution_count": null,
   "metadata": {},
   "outputs": [],
   "source": [
    "#TODO: Compila el modelo con categorical_crossentropy y RMSProp"
   ]
  },
  {
   "cell_type": "markdown",
   "metadata": {},
   "source": [
    "## Paso 5. Entrenamos el modelo\n",
    "No tienes que cambiar el código, pero entiende qué es lo que está ocurriendo. Se tardará aproximadamente 15 minutos. ¡Wooh!"
   ]
  },
  {
   "cell_type": "code",
   "execution_count": null,
   "metadata": {},
   "outputs": [],
   "source": [
    "from keras.callbacks import ModelCheckpoint   \n",
    "\n",
    "# train the model\n",
    "checkpointer = ModelCheckpoint(filepath='model.weights.best.hdf5', verbose=1, \n",
    "                               save_best_only=True)\n",
    "hist = model.fit(x_train, y_train, batch_size=32, epochs=10,\n",
    "          validation_data=(x_valid, y_valid), callbacks=[checkpointer], \n",
    "          verbose=2, shuffle=True)"
   ]
  },
  {
   "cell_type": "markdown",
   "metadata": {},
   "source": [
    "## Paso 6. Cargamos el mejor modelo y lo evaluamos"
   ]
  },
  {
   "cell_type": "code",
   "execution_count": null,
   "metadata": {},
   "outputs": [],
   "source": [
    "model.load_weights('model.weights.best.hdf5')\n",
    "score = model.evaluate(x_test, y_test, verbose=0)\n",
    "print('\\n', 'Test accuracy:', score[1])"
   ]
  },
  {
   "cell_type": "markdown",
   "metadata": {},
   "source": [
    "## Paso 7. Visualizamos las predicciones"
   ]
  },
  {
   "cell_type": "code",
   "execution_count": null,
   "metadata": {},
   "outputs": [],
   "source": [
    "# Predecimos en el testing set\n",
    "y_hat = model.predict(x_test)\n",
    "\n",
    "# Definimos labels (source: https://www.cs.toronto.edu/~kriz/cifar.html)\n",
    "cifar10_labels = ['airplane', 'automobile', 'bird', 'cat', 'deer', 'dog', 'frog', 'horse', 'ship', 'truck']"
   ]
  },
  {
   "cell_type": "code",
   "execution_count": null,
   "metadata": {},
   "outputs": [],
   "source": [
    "# Creamos un plot. Sólo entiende la idea en general\n",
    "fig = plt.figure(figsize=(20, 8))\n",
    "for i, idx in enumerate(np.random.choice(x_test.shape[0], size=32, replace=False)):\n",
    "    ax = fig.add_subplot(4, 8, i + 1, xticks=[], yticks=[])\n",
    "    ax.imshow(np.squeeze(x_test[idx]))\n",
    "    pred_idx = np.argmax(y_hat[idx])\n",
    "    true_idx = np.argmax(y_test[idx])\n",
    "    ax.set_title(\"{} ({})\".format(cifar10_labels[pred_idx], cifar10_labels[true_idx]),\n",
    "                 color=(\"green\" if pred_idx == true_idx else \"red\"))"
   ]
  },
  {
   "cell_type": "code",
   "execution_count": null,
   "metadata": {},
   "outputs": [],
   "source": []
  },
  {
   "cell_type": "code",
   "execution_count": null,
   "metadata": {},
   "outputs": [],
   "source": []
  },
  {
   "cell_type": "code",
   "execution_count": null,
   "metadata": {},
   "outputs": [],
   "source": []
  },
  {
   "cell_type": "code",
   "execution_count": null,
   "metadata": {},
   "outputs": [],
   "source": []
  },
  {
   "cell_type": "code",
   "execution_count": null,
   "metadata": {},
   "outputs": [],
   "source": []
  },
  {
   "cell_type": "code",
   "execution_count": null,
   "metadata": {},
   "outputs": [],
   "source": []
  },
  {
   "cell_type": "code",
   "execution_count": null,
   "metadata": {},
   "outputs": [],
   "source": []
  },
  {
   "cell_type": "code",
   "execution_count": null,
   "metadata": {},
   "outputs": [],
   "source": []
  },
  {
   "cell_type": "code",
   "execution_count": null,
   "metadata": {},
   "outputs": [],
   "source": []
  },
  {
   "cell_type": "code",
   "execution_count": null,
   "metadata": {},
   "outputs": [],
   "source": []
  },
  {
   "cell_type": "code",
   "execution_count": null,
   "metadata": {},
   "outputs": [],
   "source": []
  },
  {
   "cell_type": "code",
   "execution_count": null,
   "metadata": {},
   "outputs": [],
   "source": []
  },
  {
   "cell_type": "code",
   "execution_count": null,
   "metadata": {},
   "outputs": [],
   "source": [
    "from keras.models import Sequential\n",
    "from keras.layers import Conv2D, MaxPooling2D, Flatten, Dense, Dropout\n",
    "\n",
    "#TODO: Definir el modelo\n",
    "\n",
    "# Empezar con capa secuencial\n",
    "model = Sequential()\n",
    "\n",
    "# Agrega una capa Convolucional con las siguientes propiedades:\n",
    "    # 16 filtros de 2x2\n",
    "    # Padding de same, no nos importan los pixeles de los bordes\n",
    "    # Con función de activación ReLU\n",
    "    # ¿De qué tamaño es una imagen de color? (son 3 dimensiones, revisa su tamaño antes)\n",
    "model.add(Conv2D(filters=16, kernel_size=2, padding='same', activation='relu', \n",
    "                        input_shape=(32, 32, 3)))\n",
    "\n",
    "# No cambies esta capa, la explicaremos en la siguiente sesión\n",
    "model.add(MaxPooling2D(pool_size=2))\n",
    "\n",
    "# Agrega una capa Convolucional con las siguientes propiedades:\n",
    "    # 32 filtros de 2x2\n",
    "    # Padding de same, no nos importan los pixeles de los bordes\n",
    "    # Con función de activación ReLU\n",
    "model.add(Conv2D(filters=32, kernel_size=2, padding='same', activation='relu'))\n",
    "\n",
    "# No cambies esta capa, la explicaremos en la siguiente sesión\n",
    "model.add(MaxPooling2D(pool_size=2))\n",
    "\n",
    "# Agrega una capa Convolucional con las siguientes propiedades:\n",
    "    # 64 filtros de 2x2\n",
    "    # Padding de same, no nos importan los pixeles de los bordes\n",
    "    # Con función de activación ReLU\n",
    "model.add(Conv2D(filters=64, kernel_size=2, padding='same', activation='relu'))\n",
    "model.add(MaxPooling2D(pool_size=2))\n",
    "\n",
    "# Agrega una capa Dropout\n",
    "model.add(Dropout(0.3))\n",
    "\n",
    "# Agrega una capa para aplanar. No necesitas especificar ningún argumento\n",
    "model.add(Flatten())\n",
    "\n",
    "# Agrega una capa densa de 500 neuronas con activación ReLU. Agrega un Dropout después\n",
    "model.add(Dense(500, activation='relu'))\n",
    "model.add(Dropout(0.4))\n",
    "\n",
    "# Agrega una capa densa con 10 neuronas (10 clases) y con activación Softmax\n",
    "model.add(Dense(10, activation='softmax'))\n",
    "\n",
    "model.summary()"
   ]
  },
  {
   "cell_type": "code",
   "execution_count": null,
   "metadata": {},
   "outputs": [],
   "source": [
    "#TODO: Compila el modelo con categorical_crossentropy y RMSProp\n",
    "model.compile(loss='categorical_crossentropy', optimizer='rmsprop', metrics=['accuracy'])"
   ]
  },
  {
   "cell_type": "code",
   "execution_count": null,
   "metadata": {},
   "outputs": [],
   "source": []
  }
 ],
 "metadata": {
  "kernelspec": {
   "display_name": "Python 3",
   "language": "python",
   "name": "python3"
  },
  "language_info": {
   "codemirror_mode": {
    "name": "ipython",
    "version": 3
   },
   "file_extension": ".py",
   "mimetype": "text/x-python",
   "name": "python",
   "nbconvert_exporter": "python",
   "pygments_lexer": "ipython3",
   "version": "3.5.4"
  }
 },
 "nbformat": 4,
 "nbformat_minor": 2
}
